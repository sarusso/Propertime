{
 "cells": [
  {
   "cell_type": "markdown",
   "id": "060fe921-b879-43b5-9648-525d0cdd45f8",
   "metadata": {},
   "source": [
    "## Propertime Quickstart\n",
    "\n",
    "Propertime is an attempt at implementing proper time management in Python, by fully embracing the extra complications arising due to the intrinsic need of conflating together physical and calendar time instead of neglecting them.\n",
    "\n",
    "In a nutshell, it provides two main classes: the ``Time`` class for representing time (similar to a datetime) and the ``TimeSpan`` class for representing spans of time (similar to a timedelta). Such classes play nice with Python datetimes so that you can mix and match and use them only when needed.\n",
    "\n",
    "You can have a look at the [README](https://github.com/sarusso/Propertime/blob/main/README.md) for a better introduction, some example usage and more info about Propertime.\n",
    "\n",
    "This is the quickstart notebook. You might also want to check out the [API documentation](https://propertime.readthedocs.io)."
   ]
  },
  {
   "cell_type": "markdown",
   "id": "7eda8bd5-01b0-4c5d-a2bc-cc8958115708",
   "metadata": {},
   "source": [
    "### The Time class\n",
    "\n",
    "The Time class is how Propertime represents time."
   ]
  },
  {
   "cell_type": "code",
   "execution_count": 1,
   "id": "2cd71dd5-fa54-48b4-b254-5fd7726da3d2",
   "metadata": {},
   "outputs": [],
   "source": [
    "from propertime import Time"
   ]
  },
  {
   "cell_type": "markdown",
   "id": "9708d581-ee19-4d65-8106-a876a7de35f6",
   "metadata": {},
   "source": [
    "To get the time right now, just create a new Time instance without any arguments:"
   ]
  },
  {
   "cell_type": "code",
   "execution_count": 2,
   "id": "136f12c9-4e8c-4f3d-91aa-d7acdc8cb0f9",
   "metadata": {},
   "outputs": [
    {
     "data": {
      "text/plain": [
       "Time: 1708700327.0 (2024-02-23 14:58:47 UTC)"
      ]
     },
     "execution_count": 2,
     "metadata": {},
     "output_type": "execute_result"
    }
   ],
   "source": [
    "Time()"
   ]
  },
  {
   "cell_type": "markdown",
   "id": "e7501864-70f1-4339-ba48-141f1eb32ded",
   "metadata": {},
   "source": [
    "The main concept in Propertime is that time is always expressed as Epoch seconds (from 1st January 1970 UTC). Then, it can be represented in different ways or on different time zones and with different offsets. But at its core, a Time objects is a floating point number, and can always be casted as such:"
   ]
  },
  {
   "cell_type": "code",
   "execution_count": 3,
   "id": "82a4df6c-e225-42b5-9b40-64bfd8322abc",
   "metadata": {},
   "outputs": [
    {
     "data": {
      "text/plain": [
       "1708700327.0"
      ]
     },
     "execution_count": 3,
     "metadata": {},
     "output_type": "execute_result"
    }
   ],
   "source": [
    "float(Time())"
   ]
  },
  {
   "cell_type": "markdown",
   "id": "2d9260cb-8595-41a4-8c2f-754fe66a4139",
   "metadata": {},
   "source": [
    "To get the current time on another timezone or using an offset, use the `tz` of `offset` arguments:"
   ]
  },
  {
   "cell_type": "code",
   "execution_count": 4,
   "id": "1d6d3036-1dcb-4554-899c-4448e26f1ac6",
   "metadata": {},
   "outputs": [
    {
     "data": {
      "text/plain": [
       "Time: 1708700327.0 (2024-02-23 15:58:47 Europe/Rome)"
      ]
     },
     "execution_count": 4,
     "metadata": {},
     "output_type": "execute_result"
    }
   ],
   "source": [
    "Time(tz='Europe/Rome')"
   ]
  },
  {
   "cell_type": "code",
   "execution_count": 5,
   "id": "10eb75fa-49e1-4c79-b76f-258283e35493",
   "metadata": {},
   "outputs": [
    {
     "data": {
      "text/plain": [
       "Time: 1708700327.0 (2024-02-22 18:58:47 -20:00)"
      ]
     },
     "execution_count": 5,
     "metadata": {},
     "output_type": "execute_result"
    }
   ],
   "source": [
    "Time(tz=None, offset=-72000)"
   ]
  },
  {
   "cell_type": "markdown",
   "id": "047aab39-6b7f-4535-ae90-af8d9377bf6d",
   "metadata": {},
   "source": [
    "To instead create a Time instance at a given time, either use Epoch seconds, classic datetime-like arguments."
   ]
  },
  {
   "cell_type": "code",
   "execution_count": 6,
   "id": "97a6385f-5f46-4917-87e7-02cefe250c71",
   "metadata": {},
   "outputs": [
    {
     "data": {
      "text/plain": [
       "Time: 1703520720.0 (2023-12-25 16:12:00 UTC)"
      ]
     },
     "execution_count": 6,
     "metadata": {},
     "output_type": "execute_result"
    }
   ],
   "source": [
    "Time(1703520720.0)"
   ]
  },
  {
   "cell_type": "code",
   "execution_count": 7,
   "id": "067d380b-86a8-4661-a624-1b671962a71b",
   "metadata": {},
   "outputs": [
    {
     "data": {
      "text/plain": [
       "Time: 1701619920.0 (2023-12-03 16:12:00 UTC)"
      ]
     },
     "execution_count": 7,
     "metadata": {},
     "output_type": "execute_result"
    }
   ],
   "source": [
    "Time(2023,12,3,16,12,0)"
   ]
  },
  {
   "cell_type": "markdown",
   "id": "2e3c5cd3-1a0c-48c3-b277-c4d95e4fccb5",
   "metadata": {},
   "source": [
    "You can also instantiate Time classes form (ISO) string representations or a datetime objects, using their respective class methods. Using naive ISO strings or datetimes without, explicitly setting the time zone or offset, is not allowed (Propertime does not allow in general for naive time)."
   ]
  },
  {
   "cell_type": "code",
   "execution_count": 8,
   "id": "d09b354f-44a4-4a81-b414-e89e8d6248e9",
   "metadata": {},
   "outputs": [
    {
     "data": {
      "text/plain": [
       "Time: 1703517120.0 (2023-12-25 16:12:00 Europe/Rome)"
      ]
     },
     "execution_count": 8,
     "metadata": {},
     "output_type": "execute_result"
    }
   ],
   "source": [
    "Time.from_iso('2023-12-25T16:12:00+01:00', tz='Europe/Rome')"
   ]
  },
  {
   "cell_type": "code",
   "execution_count": 9,
   "id": "36f256de-0de9-484a-bba1-aec0dea6ea89",
   "metadata": {},
   "outputs": [
    {
     "data": {
      "text/plain": [
       "Time: 1701648720.0 (2023-12-03 16:12:00 America/Los_Angeles)"
      ]
     },
     "execution_count": 9,
     "metadata": {},
     "output_type": "execute_result"
    }
   ],
   "source": [
    "from datetime import datetime\n",
    "Time.from_dt(datetime(2023,12,3,16,12,0), tz='America/Los_Angeles')"
   ]
  },
  {
   "cell_type": "markdown",
   "id": "5dc5f438-6d1c-4316-a697-9b3441bb1c88",
   "metadata": {},
   "source": [
    "..and you can always convert a Time object to its (ISO) string representation or a datetime:"
   ]
  },
  {
   "cell_type": "code",
   "execution_count": 10,
   "id": "2226b3ff-782a-4512-a5d5-e07d57a768b5",
   "metadata": {},
   "outputs": [
    {
     "data": {
      "text/plain": [
       "'2023-12-03T16:12:00+00:00'"
      ]
     },
     "execution_count": 10,
     "metadata": {},
     "output_type": "execute_result"
    }
   ],
   "source": [
    "Time(2023,12,3,16,12,0).to_iso()"
   ]
  },
  {
   "cell_type": "code",
   "execution_count": 11,
   "id": "3ce73a73-f133-49f8-a102-7412d9b8b912",
   "metadata": {},
   "outputs": [
    {
     "data": {
      "text/plain": [
       "datetime.datetime(2023, 12, 3, 16, 12, tzinfo=<UTC>)"
      ]
     },
     "execution_count": 11,
     "metadata": {},
     "output_type": "execute_result"
    }
   ],
   "source": [
    "Time(2023,12,3,16,12,0).to_dt()"
   ]
  },
  {
   "cell_type": "markdown",
   "id": "c8f05d45-e839-4276-b50f-3eb87be8585a",
   "metadata": {},
   "source": [
    "Once a Time object has been initialized, it behaves exactly as another numeric type (as int and float):"
   ]
  },
  {
   "cell_type": "code",
   "execution_count": 12,
   "id": "6697f8f5-ba0f-42da-b39d-81797078e994",
   "metadata": {},
   "outputs": [
    {
     "data": {
      "text/plain": [
       "Time: 1252800.0 (1970-01-15 12:00:00 UTC)"
      ]
     },
     "execution_count": 12,
     "metadata": {},
     "output_type": "execute_result"
    }
   ],
   "source": [
    "Time(1970,1,30,0,0,0) / 2"
   ]
  },
  {
   "cell_type": "markdown",
   "id": "e73138e1-4408-4777-b986-f95325e6afe6",
   "metadata": {},
   "source": [
    "If some operations are not supported by the Time class but are implemented for the float type, they will also work, making it possible to just plug-in Time objects in nearly any numerical utility, which is very useful in some circumstances when performing data analysis. An example with the square root:"
   ]
  },
  {
   "cell_type": "code",
   "execution_count": 13,
   "id": "91c353c3-5375-4709-83b8-74411c4f0cdc",
   "metadata": {},
   "outputs": [
    {
     "data": {
      "text/plain": [
       "41250.69599412839"
      ]
     },
     "execution_count": 13,
     "metadata": {},
     "output_type": "execute_result"
    }
   ],
   "source": [
    "import math\n",
    "math.sqrt(Time(2023,12,3,16,12,0))"
   ]
  },
  {
   "cell_type": "markdown",
   "id": "c019ab27-5e82-40c4-a377-d9836c109721",
   "metadata": {},
   "source": [
    "Given that Time objects behave as numerical types, many common operations are very intuitive. For example, given a set of arrival times, to compute the average arrival time you just need to do:"
   ]
  },
  {
   "cell_type": "code",
   "execution_count": 14,
   "id": "6d49fff8-aa8b-4ceb-b492-da29bd9bbda9",
   "metadata": {},
   "outputs": [
    {
     "data": {
      "text/plain": [
       "Time: 1701621180.0 (2023-12-03 16:33:00 UTC)"
      ]
     },
     "execution_count": 14,
     "metadata": {},
     "output_type": "execute_result"
    }
   ],
   "source": [
    "arrival_times = [Time(2023,12,3,16,12,0),\n",
    "                 Time(2023,12,3,16,56,0),\n",
    "                 Time(2023,12,3,16,31,0)]\n",
    "sum(arrival_times)/len(arrival_times)"
   ]
  },
  {
   "cell_type": "markdown",
   "id": "d70d0022-efcd-4d56-a269-d118250eef86",
   "metadata": {},
   "source": [
    "To instead compute the time elapsed (in seconds) between the first and the last arrival:"
   ]
  },
  {
   "cell_type": "code",
   "execution_count": 15,
   "id": "ffd3dc1a-7679-491e-8349-a1e481e192dc",
   "metadata": {},
   "outputs": [
    {
     "data": {
      "text/plain": [
       "2640.0"
      ]
     },
     "execution_count": 15,
     "metadata": {},
     "output_type": "execute_result"
    }
   ],
   "source": [
    "float(max(arrival_times) - min(arrival_times))"
   ]
  },
  {
   "cell_type": "markdown",
   "id": "58045b1d-5f7f-4b05-8ad7-5e91d917f632",
   "metadata": {},
   "source": [
    "..which in this case has been converted to float as the resulting value would not mean much in terms of \"calendar\" time.\n",
    "\n",
    "With this definition of time, a difference between two time points is indeed just another number on the time axis (in seconds), and not a \"delta\" object as the timedelta for datatimes. To represent \"deltas\" of time, Propertime makes indeed use of a slightly different concept: the *time span*."
   ]
  },
  {
   "cell_type": "markdown",
   "id": "c298886e-13c2-4e82-9cf4-4b9b5dc9513d",
   "metadata": {},
   "source": [
    "### The TimeSpan class\n",
    "Time spans impement precise, calendar-awarare time arithmetic. Their main characteristic is to embarace that, as soon a calendar time component kicks-in, a time span can have *variable* duration: a day can indeed last either 23, 24 or 25 hours, while an hour will instead alwyas last 3600 seconds (leap seconds apart).\n",
    "\n",
    "Morover, time spans' arithmetic fully acknowledge that some time manipulation operations are not always well defined (e.g. adding a month to the 31st of January) and that should raise an error, exactly as a divison by zero would.\n",
    "\n",
    "Time spans can be instantiated either by by manually setting all of their components (years, months, weeks, days, hours, minutes, seconds and microseconds), or using their string representation: `1s` for one second, `1m` for one minute, `1h` for one hour, `1D` for one day, `1M` for one month, `1W` for one weelk and `1Y` for one year. Values other than \"one\" are of course supported, as well as combinations (to a certian degree).\n",
    "\n",
    "For example:"
   ]
  },
  {
   "cell_type": "code",
   "execution_count": 16,
   "id": "da0f859e-c433-43da-ba01-a10ce28bc33a",
   "metadata": {},
   "outputs": [
    {
     "data": {
      "text/plain": [
       "1h"
      ]
     },
     "execution_count": 16,
     "metadata": {},
     "output_type": "execute_result"
    }
   ],
   "source": [
    "from propertime import TimeSpan\n",
    "TimeSpan('1h')"
   ]
  },
  {
   "cell_type": "markdown",
   "id": "136ec641-b6dd-4a1a-96ef-79fa28d198b2",
   "metadata": {},
   "source": [
    "More in detail, the following two lines contian equivalent instantiations:"
   ]
  },
  {
   "cell_type": "code",
   "execution_count": 17,
   "id": "76c2cec9-0def-4b71-8679-c79fb9404bf0",
   "metadata": {},
   "outputs": [],
   "source": [
    "assert TimeSpan('1h') == TimeSpan('3600s') == TimeSpan(seconds=3600) == TimeSpan(hours=1)\n",
    "assert TimeSpan('1h_30m') == TimeSpan(hours=1, minutes=30)"
   ]
  },
  {
   "cell_type": "markdown",
   "id": "a50d64c8-146d-4681-b67b-0f21d64867bd",
   "metadata": {},
   "source": [
    "Time spans can always be obtained as seconds with the ``as_seconds()`` method, which for fixed-duration time spans is always well defined:"
   ]
  },
  {
   "cell_type": "code",
   "execution_count": 18,
   "id": "7c8f523b-563a-434c-a762-b20d3bd9a1ba",
   "metadata": {},
   "outputs": [
    {
     "data": {
      "text/plain": [
       "5400.0"
      ]
     },
     "execution_count": 18,
     "metadata": {},
     "output_type": "execute_result"
    }
   ],
   "source": [
    "TimeSpan('1h_30m').as_seconds()"
   ]
  },
  {
   "cell_type": "markdown",
   "id": "8d0268ec-8854-4cfc-9302-1c7d53142507",
   "metadata": {},
   "source": [
    "...while for variable-duration time spans (involving at least one calendar component) it is not:"
   ]
  },
  {
   "cell_type": "code",
   "execution_count": 19,
   "id": "b269be57-98ba-44bc-8548-f0e67180b58f",
   "metadata": {},
   "outputs": [
    {
     "name": "stdout",
     "output_type": "stream",
     "text": [
      "You can ask to get a calendar TimeSpan as seconds only if you provide the span starting point\n"
     ]
    }
   ],
   "source": [
    "try:\n",
    "    TimeSpan('1D').as_seconds()\n",
    "except Exception as e:\n",
    "    print(e)"
   ]
  },
  {
   "cell_type": "markdown",
   "id": "e3dfac32-bb03-4cc0-866a-946a776beb3a",
   "metadata": {},
   "source": [
    "This is because, as already mentioned, the duration of a time span involving calendar components it is not defined unless contextualised at a given time and on a given time zone: how many seconds a one-day time span lasts it dependends on the day. The `starting_at` argument servers for this puropose:"
   ]
  },
  {
   "cell_type": "code",
   "execution_count": 20,
   "id": "adf0cb8a-3770-459d-a77f-539492519b8d",
   "metadata": {},
   "outputs": [
    {
     "data": {
      "text/plain": [
       "82800.0"
      ]
     },
     "execution_count": 20,
     "metadata": {},
     "output_type": "execute_result"
    }
   ],
   "source": [
    "TimeSpan('1D').as_seconds(starting_at=Time(2023, 3, 26, 0, 0, 0, tz='Europe/Rome'))"
   ]
  },
  {
   "cell_type": "markdown",
   "id": "2266c91d-734a-433e-bfd4-a4105099865d",
   "metadata": {},
   "source": [
    "Propertime tries to handle such behaviour as clearly as possible, and for example it allows to explicitly state that a (fixed) 24-hours time span is different than a one-day time span:"
   ]
  },
  {
   "cell_type": "code",
   "execution_count": 21,
   "id": "6aa45187-3108-43fb-ba08-97c87ce59350",
   "metadata": {},
   "outputs": [],
   "source": [
    "assert TimeSpan('24h') == TimeSpan('86400s') \n",
    "assert TimeSpan('1D') != TimeSpan('86400s')"
   ]
  },
  {
   "cell_type": "markdown",
   "id": "799c49e4-bb03-4813-ad1d-a061485f8741",
   "metadata": {},
   "source": [
    "Time spans can be added and subtracted each other and to Time and datetime objects, in which case their context is automatically defined, thus allowing to maniplate time in an easy and consistent way:"
   ]
  },
  {
   "cell_type": "code",
   "execution_count": 22,
   "id": "361e778a-8a17-457f-8efa-da44e613d37c",
   "metadata": {},
   "outputs": [
    {
     "data": {
      "text/plain": [
       "Time: 1675209600.0 (2023-02-01 00:00:00 UTC)"
      ]
     },
     "execution_count": 22,
     "metadata": {},
     "output_type": "execute_result"
    }
   ],
   "source": [
    "Time(2023,1,1,0,0,0) + TimeSpan('1M')"
   ]
  },
  {
   "cell_type": "markdown",
   "id": "c60849be-bc4f-41a9-b6aa-17f6fd4d9c3b",
   "metadata": {},
   "source": [
    "Time spans can also be used to round, ceil or floor time."
   ]
  },
  {
   "cell_type": "code",
   "execution_count": 23,
   "id": "2fd673c6-637a-4f7c-b646-9228f1c094a8",
   "metadata": {},
   "outputs": [
    {
     "data": {
      "text/plain": [
       "Time: 1698624000.0 (2023-10-30 00:00:00 UTC)"
      ]
     },
     "execution_count": 23,
     "metadata": {},
     "output_type": "execute_result"
    }
   ],
   "source": [
    "TimeSpan('1D').round(Time(2023,10,29,16,0,0))"
   ]
  },
  {
   "cell_type": "code",
   "execution_count": 24,
   "id": "6c546727-0468-49fe-b00d-de44ff16565f",
   "metadata": {},
   "outputs": [
    {
     "data": {
      "text/plain": [
       "Time: 1675123200.0 (2023-01-31 00:00:00 UTC)"
      ]
     },
     "execution_count": 24,
     "metadata": {},
     "output_type": "execute_result"
    }
   ],
   "source": [
    "TimeSpan('1D').floor(Time(2023,1,31,19,21,47))"
   ]
  },
  {
   "cell_type": "code",
   "execution_count": 25,
   "id": "e4bff65f-ee59-4c41-84e7-5d1c35d46618",
   "metadata": {},
   "outputs": [
    {
     "data": {
      "text/plain": [
       "Time: 1675279307.0 (2023-02-01 19:21:47 UTC)"
      ]
     },
     "execution_count": 25,
     "metadata": {},
     "output_type": "execute_result"
    }
   ],
   "source": [
    "TimeSpan('1D').shift(Time(2023,1,31,19,21,47))"
   ]
  },
  {
   "cell_type": "markdown",
   "id": "002b9983-6c03-481f-881d-66e9c4b6957b",
   "metadata": {},
   "source": [
    "This is very useful for \"traveling\" around. For example, to get to the noon of the next day:"
   ]
  },
  {
   "cell_type": "code",
   "execution_count": 26,
   "id": "d07380ee-ec05-490e-a029-7e38fc3cbb47",
   "metadata": {},
   "outputs": [
    {
     "data": {
      "text/plain": [
       "Time: 1698663600.0 (2023-10-30 12:00:00 Europe/Rome)"
      ]
     },
     "execution_count": 26,
     "metadata": {},
     "output_type": "execute_result"
    }
   ],
   "source": [
    "time = Time(2023,10,29,0,15,39, tz='Europe/Rome')\n",
    "TimeSpan('1D').ceil(time) + TimeSpan('12h')"
   ]
  },
  {
   "cell_type": "markdown",
   "id": "823d467a-c4c5-4166-b640-273e34bbc9d9",
   "metadata": {},
   "source": [
    "Time spans are also useful for \"slotting\" time, while taking care about all the extra DST complications. For example, to slot a day in 1-hour bins: "
   ]
  },
  {
   "cell_type": "code",
   "execution_count": 27,
   "id": "66648a68-0289-4607-b252-40817198b062",
   "metadata": {},
   "outputs": [
    {
     "name": "stdout",
     "output_type": "stream",
     "text": [
      "Time: 1698530400.0 (2023-10-29 00:00:00 Europe/Rome DST)\n",
      "Time: 1698534000.0 (2023-10-29 01:00:00 Europe/Rome DST)\n",
      "Time: 1698537600.0 (2023-10-29 02:00:00 Europe/Rome DST)\n",
      "Time: 1698541200.0 (2023-10-29 02:00:00 Europe/Rome)\n",
      "Time: 1698544800.0 (2023-10-29 03:00:00 Europe/Rome)\n",
      "Time: 1698548400.0 (2023-10-29 04:00:00 Europe/Rome)\n",
      "Time: 1698552000.0 (2023-10-29 05:00:00 Europe/Rome)\n",
      "Time: 1698555600.0 (2023-10-29 06:00:00 Europe/Rome)\n",
      "Time: 1698559200.0 (2023-10-29 07:00:00 Europe/Rome)\n",
      "Time: 1698562800.0 (2023-10-29 08:00:00 Europe/Rome)\n",
      "Time: 1698566400.0 (2023-10-29 09:00:00 Europe/Rome)\n",
      "Time: 1698570000.0 (2023-10-29 10:00:00 Europe/Rome)\n",
      "Time: 1698573600.0 (2023-10-29 11:00:00 Europe/Rome)\n",
      "Time: 1698577200.0 (2023-10-29 12:00:00 Europe/Rome)\n",
      "Time: 1698580800.0 (2023-10-29 13:00:00 Europe/Rome)\n",
      "Time: 1698584400.0 (2023-10-29 14:00:00 Europe/Rome)\n",
      "Time: 1698588000.0 (2023-10-29 15:00:00 Europe/Rome)\n",
      "Time: 1698591600.0 (2023-10-29 16:00:00 Europe/Rome)\n",
      "Time: 1698595200.0 (2023-10-29 17:00:00 Europe/Rome)\n",
      "Time: 1698598800.0 (2023-10-29 18:00:00 Europe/Rome)\n",
      "Time: 1698602400.0 (2023-10-29 19:00:00 Europe/Rome)\n",
      "Time: 1698606000.0 (2023-10-29 20:00:00 Europe/Rome)\n",
      "Time: 1698609600.0 (2023-10-29 21:00:00 Europe/Rome)\n",
      "Time: 1698613200.0 (2023-10-29 22:00:00 Europe/Rome)\n",
      "Time: 1698616800.0 (2023-10-29 23:00:00 Europe/Rome)\n"
     ]
    }
   ],
   "source": [
    "start = Time(2023,10,29,0,0,0, tz='Europe/Rome')\n",
    "end = start + TimeSpan('1D')\n",
    "\n",
    "slot_strart_time = start\n",
    "while slot_strart_time < end:\n",
    "    print(slot_strart_time)\n",
    "    slot_strart_time = slot_strart_time + TimeSpan('1h')"
   ]
  },
  {
   "cell_type": "markdown",
   "id": "4ebaf621-d51a-406b-be06-ecb03df80bb1",
   "metadata": {},
   "source": [
    "Lastly, note that the two the examples above involved a DST cange, which was correcly handled in both cases."
   ]
  },
  {
   "cell_type": "markdown",
   "id": "9d1f2399-43e1-4caf-beee-14bfa8345279",
   "metadata": {},
   "source": [
    "### Consistency and edge cases"
   ]
  },
  {
   "cell_type": "markdown",
   "id": "65aae7ef-2a16-4958-bebc-6aa729893356",
   "metadata": {},
   "source": [
    "One of the main features of Propertime is to enforce consistency at differente levels and to handle quite well several edge cases that are usually not handled by Python built-in time management utilities nor other third-party libraries.\n",
    "\n",
    "Let's for example see what happens if we try to add a month to the 31st of january, which is an operation not well defined:"
   ]
  },
  {
   "cell_type": "code",
   "execution_count": 28,
   "id": "e0298b7d-ff98-4fe1-93b7-468ac620a0ab",
   "metadata": {},
   "outputs": [
    {
     "name": "stdout",
     "output_type": "stream",
     "text": [
      "Day is out of range for month for 2023-01-31 00:00:00+00:00 plus 1 month(s)\n"
     ]
    }
   ],
   "source": [
    "try:\n",
    "    Time(2023,1,31,0,0,0) + TimeSpan('1M')\n",
    "except Exception as e:\n",
    "    print(e)"
   ]
  },
  {
   "cell_type": "markdown",
   "id": "baaac2b2-9dcf-4d5a-b4e9-ed49b962adab",
   "metadata": {},
   "source": [
    "Similarly, let's see if we add one day to the 2:15 AM *before* a DST change when skipping an hour:"
   ]
  },
  {
   "cell_type": "code",
   "execution_count": 29,
   "id": "b750ccb1-35a7-44e1-bfb4-9627fd0b471e",
   "metadata": {},
   "outputs": [
    {
     "name": "stdout",
     "output_type": "stream",
     "text": [
      "Cannot shift \"2023-03-25 02:15:00+01:00\" by \"1D\" (Sorry, time 2023-03-26 02:15:00 does not exist on time zone Europe/Rome)\n"
     ]
    }
   ],
   "source": [
    "try:\n",
    "    Time(2023,3,25,2,15,0, tz='Europe/Rome') + TimeSpan('1D')\n",
    "except Exception as e:\n",
    "    print(e)"
   ]
  },
  {
   "cell_type": "markdown",
   "id": "cc683d58-edc2-4ced-a490-23c4a7a72566",
   "metadata": {},
   "source": [
    "This happens because 2:15 AM on March 26th, 2023 actually does not exists on the `Europe/Rome` time zone. And neither 2:15 AM on March 12th, 2023 on `America/New_York` does:"
   ]
  },
  {
   "cell_type": "code",
   "execution_count": 30,
   "id": "aa0a785e-4620-4398-9fda-af82b6fb8f01",
   "metadata": {},
   "outputs": [
    {
     "name": "stdout",
     "output_type": "stream",
     "text": [
      "Sorry, time 2023-03-12 02:15:00 does not exist on time zone America/New_York\n"
     ]
    }
   ],
   "source": [
    "try:\n",
    "    Time(2023,3,12,2,15,0, tz='America/New_York')\n",
    "except Exception as e:\n",
    "    print(e)"
   ]
  },
  {
   "cell_type": "markdown",
   "id": "8e74a9eb-6f20-455f-96b4-31dbede13c11",
   "metadata": {},
   "source": [
    "A similar logic applies when the DST adjustment goes in the other way, by duplicating an hour:"
   ]
  },
  {
   "cell_type": "code",
   "execution_count": 31,
   "id": "4fcfaf50-7a8a-4d31-aadc-58affb7b202e",
   "metadata": {},
   "outputs": [
    {
     "name": "stdout",
     "output_type": "stream",
     "text": [
      "Cannot shift \"2023-10-28 02:15:00+02:00\" by \"1D\" (Would end up on time 2023-10-29 02:15:00 which is ambiguous on time zone Europe/Rome)\n"
     ]
    }
   ],
   "source": [
    "try:\n",
    "    Time(2023,10,28,2,15,0, tz='Europe/Rome')+ TimeSpan('1D')\n",
    "except Exception as e:\n",
    "    print(e)"
   ]
  },
  {
   "cell_type": "markdown",
   "id": "f765f3c6-0c5a-4277-b012-5bb364269b7a",
   "metadata": {},
   "source": [
    "This is because 2:15 AM on October 28, 2023 actually represent two points in time on time zone `Europe/Rome`: before and after the DST kicking in. Exacly as for 1:15 AM on the 5t of November, 2023, on time zone `America/New_York`:"
   ]
  },
  {
   "cell_type": "code",
   "execution_count": 32,
   "id": "9520ef40-c5e2-4207-90dd-af704ae39cbf",
   "metadata": {},
   "outputs": [
    {
     "name": "stdout",
     "output_type": "stream",
     "text": [
      "Sorry, time 2023-11-05 01:15:00 is ambiguous on time zone America/New_York without an offset. Use guessing=True to allow creating it with a guess.\n"
     ]
    }
   ],
   "source": [
    "try:\n",
    "    Time(2023,11,5,1,15,0, tz='America/New_York')\n",
    "except Exception as e:\n",
    "    print(e)"
   ]
  },
  {
   "cell_type": "markdown",
   "id": "c1375f1b-3818-40d5-9906-27c3a0b52f14",
   "metadata": {},
   "source": [
    "You can force creating such time enabling the \"guessing\" mode, but it will only be possible to create one of the two:"
   ]
  },
  {
   "cell_type": "code",
   "execution_count": 33,
   "id": "07a88b10-97ac-4291-9591-cb59380440b6",
   "metadata": {},
   "outputs": [
    {
     "name": "stderr",
     "output_type": "stream",
     "text": [
      "Time 2023-11-05 01:15:00 is ambiguous on time zone America/New_York, assuming -05:00 UTC offset\n"
     ]
    },
    {
     "data": {
      "text/plain": [
       "Time: 1699164900.0 (2023-11-05 01:15:00 America/New_York)"
      ]
     },
     "execution_count": 33,
     "metadata": {},
     "output_type": "execute_result"
    }
   ],
   "source": [
    "Time(2023,11,5,1,15,0, tz='America/New_York', guessing=True)"
   ]
  },
  {
   "cell_type": "markdown",
   "id": "4ccc2628-20f2-4733-b504-64c636ccb3c1",
   "metadata": {},
   "source": [
    "To get the other one, you need to explicitly set the offset:"
   ]
  },
  {
   "cell_type": "code",
   "execution_count": 34,
   "id": "e6dc0fb3-1b67-4b35-a958-3ad9d8765df4",
   "metadata": {},
   "outputs": [],
   "source": [
    "assert Time(2023,11,5,1,15,0, offset=-3600*4, tz='America/New_York') == Time.from_iso('2023-11-05T01:15:00-04:00', tz='America/New_York')"
   ]
  },
  {
   "cell_type": "markdown",
   "id": "cb43116b-e9be-403f-91ed-5d8de9582463",
   "metadata": {},
   "source": [
    "...or just add the necessary hours to a previous point in time, which is an operation always allowed:"
   ]
  },
  {
   "cell_type": "code",
   "execution_count": 35,
   "id": "741c74dc-a327-4c8b-984e-7058e2680a79",
   "metadata": {},
   "outputs": [
    {
     "data": {
      "text/plain": [
       "Time: 1699161300.0 (2023-11-05 01:15:00 America/New_York DST)"
      ]
     },
     "execution_count": 35,
     "metadata": {},
     "output_type": "execute_result"
    }
   ],
   "source": [
    "Time(2023,11,5,0,15,0, tz='America/New_York') + TimeSpan('1h')"
   ]
  },
  {
   "cell_type": "code",
   "execution_count": 36,
   "id": "12d3f1b6-ff6e-4418-9240-5a9aae32ed60",
   "metadata": {},
   "outputs": [
    {
     "data": {
      "text/plain": [
       "Time: 1699164900.0 (2023-11-05 01:15:00 America/New_York)"
      ]
     },
     "execution_count": 36,
     "metadata": {},
     "output_type": "execute_result"
    }
   ],
   "source": [
    "Time(2023,11,5,0,15,0, tz='America/New_York') + TimeSpan('2h')"
   ]
  },
  {
   "cell_type": "markdown",
   "id": "70706a01-8a41-4a24-9c82-0c1dbc418a61",
   "metadata": {},
   "source": [
    "### Where to go from here\n",
    "\n",
    "You can check out the [API documentation](https://propertime.readthedocs.io), or you can just `pip install propertime` and give it a try!"
   ]
  }
 ],
 "metadata": {
  "kernelspec": {
   "display_name": "Python 3 (ipykernel)",
   "language": "python",
   "name": "python3"
  },
  "language_info": {
   "codemirror_mode": {
    "name": "ipython",
    "version": 3
   },
   "file_extension": ".py",
   "mimetype": "text/x-python",
   "name": "python",
   "nbconvert_exporter": "python",
   "pygments_lexer": "ipython3",
   "version": "3.9.6"
  }
 },
 "nbformat": 4,
 "nbformat_minor": 5
}
